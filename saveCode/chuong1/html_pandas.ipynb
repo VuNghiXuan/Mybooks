{
 "cells": [
  {
   "cell_type": "code",
   "execution_count": 1,
   "source": [
    "import pandas as pd\r\n",
    "url = \"https://www.24h.com.vn/tong-hop-so-lieu-dich-covid-19-c972.html?type=covid\"\r\n",
    "data = pd.read_html(url)\r\n",
    "df = pd.DataFrame(data).to_numpy()\r\n",
    "df"
   ],
   "outputs": [
    {
     "output_type": "stream",
     "name": "stderr",
     "text": [
      "C:\\Users\\ADMIN\\AppData\\Local\\Programs\\Python\\Python39\\lib\\site-packages\\pandas\\core\\internals\\construction.py:309: VisibleDeprecationWarning: Creating an ndarray from ragged nested sequences (which is a list-or-tuple of lists-or-tuples-or ndarrays with different lengths or shapes) is deprecated. If you meant to do this, you must specify 'dtype=object' when creating the ndarray\n",
      "  values = np.array([convert(v) for v in values])\n"
     ]
    },
    {
     "output_type": "execute_result",
     "data": {
      "text/plain": [
       "array([[                  STT  Tỉnh thành Ca nhiễm mới hôm nay Tổng Ca nhiễm  \\\n",
       "   Unnamed: 0_level_1        Tổng              +11.927       596.980   \n",
       "0                   1      TP.HCM                5.629       291.871   \n",
       "1                   2  Bình Dương                3.971       153.830   \n",
       "2                   3    Đồng Nai              960.000        33.842   \n",
       "3                   4     Long An              337.000        27.874   \n",
       "4                   5  Kiên Giang              165.000         3.017   \n",
       "..                ...         ...                  ...           ...   \n",
       "57                 58   Quảng Trị                0.000       138.000   \n",
       "58                 59      Cà Mau                0.000       198.000   \n",
       "59                 60   Vĩnh Long                0.000         2.117   \n",
       "60                 61    Lâm Đồng                0.000       264.000   \n",
       "61                 62     Yên Bái                0.000         3.000   \n",
       "\n",
       "   Ca tử vong Ca tử vong hôm nay  \n",
       "       14.983                273  \n",
       "0      11.661                188  \n",
       "1       1.315                 10  \n",
       "2     390.000                 60  \n",
       "3     329.000                  0  \n",
       "4      24.000                  3  \n",
       "..        ...                ...  \n",
       "57      1.000                  0  \n",
       "58      2.000                  0  \n",
       "59     58.000                  1  \n",
       "60      0.000                  0  \n",
       "61      0.000                  0  \n",
       "\n",
       "[62 rows x 6 columns]],\n",
       "       [                   STT           Quốc gia      Tổng ca nhiễm  \\\n",
       "    Unnamed: 0_level_1           Thế giới Unnamed: 2_level_1   \n",
       "0                    1                 Mỹ              41.2M   \n",
       "1                    2              Ấn Độ              33.0M   \n",
       "2                    3            Bra-xin              20.9M   \n",
       "3                    4     Vương Quốc Anh              7.05M   \n",
       "4                    5                Nga              7.04M   \n",
       "..                 ...                ...                ...   \n",
       "203                204  Wallis and Futuna                445   \n",
       "204                205         Montserrat                 31   \n",
       "205                206     Western Sahara                 10   \n",
       "206                207            Vanuatu                  4   \n",
       "207                208         Trung Quốc              95.0k   \n",
       "\n",
       "          Ca nhiễm mới   %ca nhiễm/dân số    Tổng số ca khỏi  \\\n",
       "    Unnamed: 3_level_1 Unnamed: 4_level_1 Unnamed: 5_level_1   \n",
       "0                    -              12.4%              31.5M   \n",
       "1                +1.2k               2.4%              32.2M   \n",
       "2                    -               9.8%              19.9M   \n",
       "3                    -              10.3%              5.66M   \n",
       "4                    -               4.8%              6.30M   \n",
       "..                 ...                ...                ...   \n",
       "203                  -               4.0%                438   \n",
       "204                  -               0.6%                 24   \n",
       "205                  -               0.0%                  8   \n",
       "206                  -               0.0%                  3   \n",
       "207                +19               0.0%              89.6k   \n",
       "\n",
       "           Ca khỏi mới         Ca tử vong     Ca tử vong mới  \n",
       "    Unnamed: 6_level_1 Unnamed: 7_level_1 Unnamed: 8_level_1  \n",
       "0                    -             669.0k                  -  \n",
       "1                +7.4k             441.4k                  -  \n",
       "2                    -             584.2k                  -  \n",
       "3                    -             133.4k                  -  \n",
       "4                    -             188.7k                  -  \n",
       "..                 ...                ...                ...  \n",
       "203                  -                  7                  -  \n",
       "204                  -                  1                  -  \n",
       "205                  -                  1                  -  \n",
       "206                  -                  1                  -  \n",
       "207                +50               4.6k                  -  \n",
       "\n",
       "[208 rows x 9 columns]],\n",
       "       [                                                   0  \\\n",
       "0  Tháng 1Tháng 2Tháng 3Tháng 4Tháng 5Tháng 6Thán...   \n",
       "1                                                 CN   \n",
       "2                                                NaN   \n",
       "\n",
       "                                                   1  \\\n",
       "0  Tháng 1Tháng 2Tháng 3Tháng 4Tháng 5Tháng 6Thán...   \n",
       "1                                                 T2   \n",
       "2                                                NaN   \n",
       "\n",
       "                                                   2  \\\n",
       "0  Tháng 1Tháng 2Tháng 3Tháng 4Tháng 5Tháng 6Thán...   \n",
       "1                                                 T3   \n",
       "2                                                NaN   \n",
       "\n",
       "                                                   3    4    5    6  \n",
       "0  Tháng 1Tháng 2Tháng 3Tháng 4Tháng 5Tháng 6Thán...  NaN  NaN    X  \n",
       "1                                                 T4   T5   T6   T7  \n",
       "2                                                NaN  NaN  NaN  NaN  ]],\n",
       "      dtype=object)"
      ]
     },
     "metadata": {},
     "execution_count": 1
    }
   ],
   "metadata": {}
  }
 ],
 "metadata": {
  "orig_nbformat": 4,
  "language_info": {
   "name": "python",
   "version": "3.9.2",
   "mimetype": "text/x-python",
   "codemirror_mode": {
    "name": "ipython",
    "version": 3
   },
   "pygments_lexer": "ipython3",
   "nbconvert_exporter": "python",
   "file_extension": ".py"
  },
  "kernelspec": {
   "name": "python3",
   "display_name": "Python 3.9.2 64-bit"
  },
  "interpreter": {
   "hash": "cf6663ca35ebd57d6121109460e534e72c1e1f8ff142ad985cdcb4b7e585eb79"
  }
 },
 "nbformat": 4,
 "nbformat_minor": 2
}